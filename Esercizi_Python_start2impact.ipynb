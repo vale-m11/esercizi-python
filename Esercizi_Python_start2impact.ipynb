{
  "nbformat": 4,
  "nbformat_minor": 0,
  "metadata": {
    "colab": {
      "provenance": []
    },
    "kernelspec": {
      "name": "python3",
      "display_name": "Python 3"
    },
    "language_info": {
      "name": "python"
    }
  },
  "cells": [
    {
      "cell_type": "markdown",
      "source": [
        "# PYTHON: ESERCIZI PER IL CORSO DI DATA ANALYSIS DI START2IMPACT"
      ],
      "metadata": {
        "id": "cy50Beo7xZzl"
      }
    },
    {
      "cell_type": "markdown",
      "source": [
        "## Modulo: VARIABILI, STRINGHE E NUMERI"
      ],
      "metadata": {
        "id": "DU8Te7vetl5H"
      }
    },
    {
      "cell_type": "markdown",
      "source": [
        "Consegna:\n",
        "*   Crea una variabile per memorizzare la tua età e visualizzarla\n",
        "*   Definisci una variabile stringa per memorizzare il tuo nome completo e stamparlo\n",
        "*   Esegui operazioni aritmetiche con diversi tipi di numeri\n",
        "\n",
        "\n",
        "\n"
      ],
      "metadata": {
        "id": "geMM5rlDt1Mh"
      }
    },
    {
      "cell_type": "code",
      "execution_count": null,
      "metadata": {
        "colab": {
          "base_uri": "https://localhost:8080/"
        },
        "id": "Vy4XTHLXtQuz",
        "outputId": "6651c971-3904-4c90-f1ac-66233b0f958e"
      },
      "outputs": [
        {
          "output_type": "stream",
          "name": "stdout",
          "text": [
            "Io ho 29 anni\n"
          ]
        }
      ],
      "source": [
        "# creo una variabile per memorizzare la mia età\n",
        "età = 29\n",
        "\n",
        "print(\"Io ho\", età, \"anni\")"
      ]
    },
    {
      "cell_type": "code",
      "source": [
        "# definisco una variabile stringa per memorizzare il mio nome e stamparlo\n",
        "nome = \"Valentina\"\n",
        "print(\"Il mio nome è\", nome)"
      ],
      "metadata": {
        "colab": {
          "base_uri": "https://localhost:8080/"
        },
        "id": "Yh8fEFRmuusS",
        "outputId": "46ff6600-9c6b-4664-bcf8-0113a35821b6"
      },
      "execution_count": null,
      "outputs": [
        {
          "output_type": "stream",
          "name": "stdout",
          "text": [
            "Il mio nome è Valentina\n"
          ]
        }
      ]
    },
    {
      "cell_type": "code",
      "source": [
        "# eseguo operazioni aritmetiche con diversi tipi di numeri\n",
        "\n",
        "# addizione\n",
        "somma = 16+4\n",
        "print(\"La somma di 16 e 4 è\", somma)\n",
        "\n",
        "somma_float = 16.3+4.4\n",
        "print(\"La somma di 16.3 e 4.4 è\", somma_float)\n",
        "\n",
        "# sottrazione\n",
        "differenza = 16-4\n",
        "print(\"La differenza tra 16 e 4 è\", differenza)\n",
        "\n",
        "differenza_float = 16.3-4.4\n",
        "print(\"La differenza tra 16.3 e 4.4 è\", differenza_float)\n",
        "\n",
        "# moltiplicazione\n",
        "prodotto = 16*4\n",
        "print(\"Se moltiplico 16 per 4 ottengo\", prodotto)\n",
        "\n",
        "# divisione\n",
        "divisione = 16//4\n",
        "print(\"Se divido 16 per 4 ottengo\", divisione)\n",
        "\n"
      ],
      "metadata": {
        "colab": {
          "base_uri": "https://localhost:8080/"
        },
        "id": "1uj4fxsuvCzS",
        "outputId": "02c59558-c407-4a29-effa-992c7d91fdb2"
      },
      "execution_count": null,
      "outputs": [
        {
          "output_type": "stream",
          "name": "stdout",
          "text": [
            "La somma di 16 e 4 è 20\n",
            "La somma di 16.3 e 4.4 è 20.700000000000003\n",
            "La differenza tra 16 e 4 è 12\n",
            "La differenza tra 16.3 e 4.4 è 11.9\n",
            "Se moltiplico 16 per 4 ottengo 64\n",
            "Se divido 16 per 4 ottengo 4\n"
          ]
        }
      ]
    },
    {
      "cell_type": "markdown",
      "source": [
        "## Modulo: TIPI BOOLEANI E ISTRUZIONI CONDIZIONALI"
      ],
      "metadata": {
        "id": "jjJpQA4LxOJi"
      }
    },
    {
      "cell_type": "markdown",
      "source": [
        "Consegna: metti in pratica quanto imparato provando a svolgere questi esercizi:\n",
        "\n",
        "*   Scrivi un programma che richieda all'utente di inserire la propria età e quindi di determinare se è idoneo a votare in base al limite di età per il voto\n",
        "*   Crea un programma che chieda all'utente di inserire un numero e quindi stampi se il numero è positivo, negativo o zero\n",
        "\n"
      ],
      "metadata": {
        "id": "EHYFN0x1xpAp"
      }
    },
    {
      "cell_type": "code",
      "source": [
        "# scrivo un programma che chieda all'utente di inserire la propria età e di determinare se è idoneo a votare in base al limite di età per il voto\n",
        "\n",
        "età = int(input(\"Inserisci la tua età: \"))\n",
        "\n",
        "if età >= 18:\n",
        "  print(\"Puoi votare\")\n",
        "else:\n",
        "  print(\"Non puoi ancora votare\")"
      ],
      "metadata": {
        "id": "t71XtOzyxT4D",
        "colab": {
          "base_uri": "https://localhost:8080/"
        },
        "outputId": "0150d47e-0628-4c16-cd38-ec090393d424"
      },
      "execution_count": null,
      "outputs": [
        {
          "output_type": "stream",
          "name": "stdout",
          "text": [
            "Inserisci la tua età: 17\n",
            "Non puoi ancora votare\n"
          ]
        }
      ]
    },
    {
      "cell_type": "code",
      "source": [
        "# creo un programma che chieda all'utente di inserire un numero e quindi stampi se il numero è positivo, negativo o zero\n",
        "\n",
        "inserire_numero = float(input(\"Inserisci un numero: \"))\n",
        "\n",
        "if inserire_numero > 0:\n",
        "    print(\"Il numero inserito è positivo\")\n",
        "elif inserire_numero < 0:\n",
        "    print(\"Il numero inserito è negativo\")\n",
        "else:\n",
        "    print(\"Il numero inserito è zero\")\n",
        "\n",
        "\n",
        "\n",
        "\n"
      ],
      "metadata": {
        "colab": {
          "base_uri": "https://localhost:8080/"
        },
        "id": "TOIxln-5BnIq",
        "outputId": "e1407715-f9b3-4608-8a3a-b015c73d8520"
      },
      "execution_count": null,
      "outputs": [
        {
          "output_type": "stream",
          "name": "stdout",
          "text": [
            "Inserisci un numero: 0.359\n",
            "Il numero inserito è positivo\n"
          ]
        }
      ]
    },
    {
      "cell_type": "markdown",
      "source": [
        "## Modulo: LISTE E CICLI"
      ],
      "metadata": {
        "id": "fNGFVBmcyAGN"
      }
    },
    {
      "cell_type": "markdown",
      "source": [
        "Consegna:\n",
        "*   creare una lista di numeri interi, float o misti\n",
        "*   iterare sui numeri della lista, stampandoli insieme al loro indice"
      ],
      "metadata": {
        "id": "64EYmI0VDZYu"
      }
    },
    {
      "cell_type": "code",
      "source": [
        "# creo una lista di numeri\n",
        "\n",
        "numeri = [3, 7, 12, 23, 29, 33, 45]\n",
        "\n",
        "print(type(numeri))\n",
        "\n",
        "print(numeri)\n",
        "\n",
        "# iterare sui numeri della lista, stampandoli insieme al loro indice\n",
        "numeri = [3, 7, 12, 23, 29, 33, 45]\n",
        "\n",
        "for indice, numero in enumerate(numeri):\n",
        "    print(indice, numero)"
      ],
      "metadata": {
        "colab": {
          "base_uri": "https://localhost:8080/"
        },
        "id": "5e3EEgrPC7aB",
        "outputId": "a7b1daff-674a-4e03-f0c9-4f1403c2c981"
      },
      "execution_count": null,
      "outputs": [
        {
          "output_type": "stream",
          "name": "stdout",
          "text": [
            "<class 'list'>\n",
            "[3, 7, 12, 23, 29, 33, 45]\n",
            "0 3\n",
            "1 7\n",
            "2 12\n",
            "3 23\n",
            "4 29\n",
            "5 33\n",
            "6 45\n"
          ]
        }
      ]
    },
    {
      "cell_type": "markdown",
      "source": [
        "## Modulo: STRINGHE E DIZIONARI"
      ],
      "metadata": {
        "id": "aWUSgaqdJZQl"
      }
    },
    {
      "cell_type": "markdown",
      "source": [
        "Consegna:\n",
        "*   scrivi una funzione per contare la frequenza di ciascun carattere in una determinata stringa e memorizza i risultati in un dizionario\n",
        "*   crea un programma che chieda all'utente una frase e poi stampi un dizionario con il conteggio di ogni parola nella frase\n",
        "\n"
      ],
      "metadata": {
        "id": "7Eat-BHiJgfq"
      }
    },
    {
      "cell_type": "code",
      "source": [
        "# FUNZIONE FREQUENZA CARATTERI\n",
        "\n",
        "def conta_frequenza_caratteri(stringa): # questa è la creazione della funzione\n",
        "    frequenza_caratteri = {} # questa è la creazione del dizionario\n",
        "\n",
        "    for carattere in stringa: # condizioni della funzione\n",
        "        if carattere in frequenza_caratteri:\n",
        "            frequenza_caratteri[carattere] += 1 # conta quante altre volte il carattere si ripete\n",
        "        else:\n",
        "            frequenza_caratteri[carattere] = 1 # il carattere è presente una sola volta\n",
        "    return frequenza_caratteri\n",
        "\n",
        "  # esempio di applicazione\n",
        "stringa_test = \"stringa di test. ciao a tutti\"\n",
        "risultato = conta_frequenza_caratteri(stringa_test)\n",
        "\n",
        "print(risultato)"
      ],
      "metadata": {
        "colab": {
          "base_uri": "https://localhost:8080/"
        },
        "id": "LopD47fmJdbO",
        "outputId": "42fd238d-8312-462b-d4a8-97fe20821e0f"
      },
      "execution_count": null,
      "outputs": [
        {
          "output_type": "stream",
          "name": "stdout",
          "text": [
            "{'s': 2, 't': 6, 'r': 1, 'i': 4, 'n': 1, 'g': 1, 'a': 3, ' ': 5, 'd': 1, 'e': 1, '.': 1, 'c': 1, 'o': 1, 'u': 1}\n"
          ]
        }
      ]
    },
    {
      "cell_type": "code",
      "source": [
        "#PROGRAMMA STAMPA DIZIONARIO E CONTEGGIO FREQUENZA PAROLE\n",
        "\n",
        "def conta_frequenza_parole(frase):\n",
        "    parole = frase.split() # divido la frase in parole\n",
        "\n",
        "    frequenza_parole = {} # creo un dizionario vuoto per memorizzare la frequenza delle parole\n",
        "\n",
        "    for parola in parole:\n",
        "        if parola in frequenza_parole:\n",
        "            frequenza_parole[parola] += 1\n",
        "        else:\n",
        "            frequenza_parole[parola] = 1\n",
        "    return frequenza_parole\n",
        "\n",
        "    # esempio di applicazione\n",
        "stringa_test = \"stringa di test. ciao a tutti\"\n",
        "risultato = conta_frequenza_parole(stringa_test)\n",
        "\n",
        "print(risultato)"
      ],
      "metadata": {
        "colab": {
          "base_uri": "https://localhost:8080/"
        },
        "id": "tUWRMoGTLJj5",
        "outputId": "d56c9f54-47ab-4b82-f08d-52b141a7f2fe"
      },
      "execution_count": null,
      "outputs": [
        {
          "output_type": "stream",
          "name": "stdout",
          "text": [
            "{'stringa': 1, 'di': 1, 'test.': 1, 'ciao': 1, 'a': 1, 'tutti': 1}\n"
          ]
        }
      ]
    },
    {
      "cell_type": "code",
      "source": [
        "# INSERIMENTO INPUT DA PARTE DELL'UTENTE E CONTEGGIO FREQUENZA PAROLE\n",
        "\n",
        "input_utente = input(\"Inserisci una frase: \")\n",
        "risultato = conta_frequenza_parole(input_utente)\n",
        "\n",
        "print(risultato)\n",
        "\n",
        "\n"
      ],
      "metadata": {
        "colab": {
          "base_uri": "https://localhost:8080/"
        },
        "id": "1Hj37SxPMgLP",
        "outputId": "5a207c79-78a6-4dfd-a9b6-18914304bed3"
      },
      "execution_count": null,
      "outputs": [
        {
          "output_type": "stream",
          "name": "stdout",
          "text": [
            "Inserisci una frase: ciao a tutti\n",
            "{'ciao': 1, 'a': 1, 'tutti': 1}\n"
          ]
        }
      ]
    }
  ]
}